{
 "cells": [
  {
   "cell_type": "markdown",
   "metadata": {},
   "source": [
    "1. Estimar integral definida"
   ]
  },
  {
   "cell_type": "code",
   "execution_count": null,
   "metadata": {},
   "outputs": [],
   "source": [
    "import numpy as np\n",
    "import matplotlib.pyplot as plt\n",
    "import math\n",
    "\n",
    "#funcaoo para calcular a integral definida de f(x) de a ate b usando soma de Riemann pela esquerda\n",
    "def soma_Riemann_Esquerda (f, a, b, n): #f é a funcao a ser integrada, a é o limite inferior, b é o limite superior, n é o número de retangulos para aproximar a area da curvaa\n",
    "    dx = (b - a) / n #largura de cada retangulo\n",
    "    x = np.linspace(a, b - dx, n) #gera n pontos igualmente espaçados de a ate b - dx\n",
    "    return np.sum(f(x) * dx)\n",
    "\n",
    "#funcaoo para calcular a integral definida de f(x) de a ate b usando soma de Riemann pela direita\n",
    "def soma_Riemann_Direita(f, a, b, n):\n",
    "    dx = (b - a) / n\n",
    "    x = np.linspace(a + dx, b, n)\n",
    "    return np.sum(f(x) * dx)\n",
    "\n",
    "#funcaoo para calcular a integral definida de f(x) de a ate b usando soma de Riemann pele metodo do ponto medio\n",
    "def soma_Riemann_PM(f, a, b, n):\n",
    "    dx = (b - a) / n\n",
    "    x = np.linspace(a + dx/2, b - dx/2, n)\n",
    "    return np.sum(f(x) * dx)\n",
    "\n",
    "#funcaoo para calcular a integral definida de f(x) de a ate b usando soma de Riemann pelo metodo dos trapezoides\n",
    "def soma_Riemann_Trapezoides(f, a, b, n):\n",
    "    dx = (b - a) / n\n",
    "    x = np.linspace(a, b, n + 1)\n",
    "    y = f(x)\n",
    "    return (dx / 2) * np.sum(y[:-1] + y[1:])    \n",
    "\n",
    "def funcao(x): #define a funcao a ser integrada\n",
    "    return np.exp(-x**2)"
   ]
  },
  {
   "cell_type": "code",
   "execution_count": null,
   "metadata": {},
   "outputs": [],
   "source": [
    "# n = 100\n",
    "esquerda_100 = soma_Riemann_Esquerda(funcao, 0, 1, 100)\n",
    "direita_100 = soma_Riemann_Direita(funcao, 0, 1, 100)\n",
    "ponto_medio_100 = soma_Riemann_PM(funcao, 0, 1, 100)\n",
    "trapezoides_100 = soma_Riemann_Trapezoides(funcao, 0, 1, 100)\n",
    "\n",
    "#resultados para 100 retangulos\n",
    "print(\"Estimativas para 100 retangulos: \\n\")\n",
    "print(f\"Soma de Riemann a esquerda: {esquerda_100}\")\n",
    "print(f\"Soma de Riemann a direita: {direita_100}\")\n",
    "print(f\"Soma de Riemann no ponto medio: {ponto_medio_100}\")\n",
    "print(f\"Soma de Riemann pela regra dos trapezoides: {trapezoides_100}\")"
   ]
  }
 ],
 "metadata": {
  "kernelspec": {
   "display_name": "Python 3",
   "language": "python",
   "name": "python3"
  },
  "language_info": {
   "codemirror_mode": {
    "name": "ipython",
    "version": 3
   },
   "file_extension": ".py",
   "mimetype": "text/x-python",
   "name": "python",
   "nbconvert_exporter": "python",
   "pygments_lexer": "ipython3",
   "version": "3.13.5"
  }
 },
 "nbformat": 4,
 "nbformat_minor": 2
}
