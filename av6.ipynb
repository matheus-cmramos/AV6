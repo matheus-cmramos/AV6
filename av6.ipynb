{
 "cells": [
  {
   "cell_type": "markdown",
   "metadata": {},
   "source": [
    "1. Estimar integral definida"
   ]
  },
  {
   "cell_type": "code",
   "execution_count": 5,
   "metadata": {},
   "outputs": [
    {
     "name": "stdout",
     "output_type": "stream",
     "text": [
      "Aproximação da integral: 0.7471401317785991\n"
     ]
    }
   ],
   "source": [
    "import numpy as np\n",
    "import matplotlib.pyplot as plt\n",
    "import math\n",
    "\n",
    "#funcaoo para calcular a integral definida de f(x) de a ate b usando soma de Riemann pela esquerda\n",
    "def soma_Riemann_Esquerda (f, a, b, n): #f é a funcao a ser integrada, a é o limite inferior, b é o limite superior, n é o número de retangulos para aproximar a area da curvaa\n",
    "    dx = (b - a) / n #largura de cada retangulo\n",
    "    x = np.linspace(a, b - dx, n) #gera n pontos igualmente espaçados de a ate b - dx\n",
    "    return np.sum(f(x) * dx)\n",
    "\n",
    "#funcaoo para calcular a integral definida de f(x) de a ate b usando soma de Riemann pela direita\n",
    "def soma_Riemann_Direita(f, a, b, n):\n",
    "    dx = (b - a) / n\n",
    "    x = np.linspace(a + dx, b, n)\n",
    "    return np.sum(f(x) * dx)\n",
    "\n",
    "#funcaoo para calcular a integral definida de f(x) de a ate b usando soma de Riemann pele metodo do ponto medio\n",
    "def soma_Riemann_PM(f, a, b, n):\n",
    "    dx = (b - a) / n\n",
    "    x = np.linspace(a + dx/2, b - dx/2, n)\n",
    "    return np.sum(f(x) * dx)\n",
    "\n",
    "#funcaoo para calcular a integral definida de f(x) de a ate b usando soma de Riemann pelo metodo dos trapezoides\n",
    "def soma_Riemann_Trapezoides(f, a, b, n):\n",
    "    dx = (b - a) / n\n",
    "    x = np.linspace(a, b, n + 1)\n",
    "    y = f(x)\n",
    "    return (dx / 2) * np.sum(y[:-1] + y[1:])    \n",
    "\n",
    "def funcao(x): #define a funcao a ser integrada\n",
    "    return np.exp(-x**2)\n",
    "\n",
    "resultado = soma_Riemann_Esquerda(funcao, 0, 1, 1000) #entrega o resultado da aproximação\n",
    "print(f\"Aproximacao da integral: {resultado}\")\n",
    "   \n",
    "\n"
   ]
  }
 ],
 "metadata": {
  "kernelspec": {
   "display_name": "Python 3",
   "language": "python",
   "name": "python3"
  },
  "language_info": {
   "codemirror_mode": {
    "name": "ipython",
    "version": 3
   },
   "file_extension": ".py",
   "mimetype": "text/x-python",
   "name": "python",
   "nbconvert_exporter": "python",
   "pygments_lexer": "ipython3",
   "version": "3.13.5"
  }
 },
 "nbformat": 4,
 "nbformat_minor": 2
}
